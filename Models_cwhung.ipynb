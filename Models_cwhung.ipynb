{
 "cells": [
  {
   "cell_type": "markdown",
   "metadata": {},
   "source": [
    "# Try to model the result of a coin toss. In your model, include any features that you think important in explaining the result. Discuss with your mentor about the pros and cons of adding too many features into your model.\n",
    "The features for coin toss can be 1) tossed by right/left hand, 2) coin landed on material: concrete/carpet/hardwood floor, 3) coin used: penny/nickel/quarter, 4) room temperature, 5) humidity, 6) date and time, etc.  Adding too many will make the model too complex to analyze.  However if we pick too less features, we may lose the one that really matters.  "
   ]
  },
  {
   "cell_type": "markdown",
   "metadata": {},
   "source": [
    "# If you ever used Netflix, you should already have realized that it provides some recommendations for you to watch. In data science, this is an example of the so-called recommendations systems. Read this nontechnical blog post of Netflix about how they model their recommendations systems. Then, derive the features they use in their recommendations engines and discuss what else can be incorporated into this model."
   ]
  },
  {
   "cell_type": "markdown",
   "metadata": {},
   "source": [
    "The features Netflix uses in their recommendation systems include\n",
    "1. User interaction: user viewing history and the review\n",
    "2. Other member with similar taste and their recommendation\n",
    "3. information about the movie title, genre, directors, categories. \n",
    "And more personal specific:\n",
    "4. The time of Netflix usage\n",
    "5. The type of devices \n",
    "6. the length of time of usage\n",
    "\n",
    "I think Netflix can add languages and locales.  Netflix is an international app and there should be more language specific and demographic specific features. If the user would provide more personal information, such as ages and locations, these can be helpful.  The recent box office numbers.  If netflix allows people to \"follow\" other users for their reviews, their reviews can be a good feature.  "
   ]
  },
  {
   "cell_type": "code",
   "execution_count": null,
   "metadata": {},
   "outputs": [],
   "source": []
  }
 ],
 "metadata": {
  "kernelspec": {
   "display_name": "Python 3",
   "language": "python",
   "name": "python3"
  },
  "language_info": {
   "codemirror_mode": {
    "name": "ipython",
    "version": 3
   },
   "file_extension": ".py",
   "mimetype": "text/x-python",
   "name": "python",
   "nbconvert_exporter": "python",
   "pygments_lexer": "ipython3",
   "version": "3.7.3"
  },
  "toc": {
   "base_numbering": 1,
   "nav_menu": {},
   "number_sections": true,
   "sideBar": true,
   "skip_h1_title": false,
   "title_cell": "Table of Contents",
   "title_sidebar": "Contents",
   "toc_cell": false,
   "toc_position": {},
   "toc_section_display": true,
   "toc_window_display": false
  }
 },
 "nbformat": 4,
 "nbformat_minor": 2
}
